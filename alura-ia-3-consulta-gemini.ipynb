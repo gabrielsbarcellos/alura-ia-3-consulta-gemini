{
  "nbformat": 4,
  "nbformat_minor": 0,
  "metadata": {
    "colab": {
      "provenance": [],
      "authorship_tag": "ABX9TyPnzQzGmMI89iNN2yx5P/NF",
      "include_colab_link": true
    },
    "kernelspec": {
      "name": "python3",
      "display_name": "Python 3"
    },
    "language_info": {
      "name": "python"
    }
  },
  "cells": [
    {
      "cell_type": "markdown",
      "metadata": {
        "id": "view-in-github",
        "colab_type": "text"
      },
      "source": [
        "<a href=\"https://colab.research.google.com/github/gabrielsbarcellos/alura-ia-3-consulta-gemini/blob/main/alura-ia-3-consulta-gemini.ipynb\" target=\"_parent\"><img src=\"https://colab.research.google.com/assets/colab-badge.svg\" alt=\"Open In Colab\"/></a>"
      ]
    },
    {
      "cell_type": "code",
      "execution_count": null,
      "metadata": {
        "id": "Mw232brkk5LV"
      },
      "outputs": [],
      "source": [
        "# pip é o gerenciador de pacotes do python (like composer)\n",
        "# precisa ter a exclamação no início do comando\n",
        "# -q: o instalador é muito verboso, o -q dá um resultado silencioso, quiet\n",
        "# -u: caso você já tenha uma versão anterior do google-generativeai instalado\n",
        "# ele vai fazer o update automaticamente, vai atualizar pra última versão disponível\n",
        "!pip install -q -U google-generativeai"
      ]
    },
    {
      "cell_type": "code",
      "source": [
        "# importa os pacotes baixados o gemini e instancia como o objeto gemini\n",
        "import google.generativeai as gemini\n",
        "\n",
        "# importa do google colab um objeto especial chamado userdata o qual\n",
        "# pode conter diversas variaveis de ambiente visiveis apenas no colab e apenas\n",
        "# pelo usuário dono das variaveis.\n",
        "from google.colab import userdata\n",
        "\n",
        "# inicia a variavel GOOGLE_API_KEY com o valor real da api key do usuario logado,\n",
        "# (considerando que ela esteja de fato salva no secrets do colab e com a mesma\n",
        "# nomenclatura, MY_GOOGLE_API_KEY)\n",
        "GOOGLE_API_KEY = userdata.get('MY_GOOGLE_API_KEY')\n",
        "\n",
        "# configura o objeto do gemini para usar a nossa chave de acesso\n",
        "# nas consultas\n",
        "gemini.configure(api_key=GOOGLE_API_KEY)"
      ],
      "metadata": {
        "id": "RN-mwivEonsD"
      },
      "execution_count": null,
      "outputs": []
    },
    {
      "cell_type": "code",
      "source": [
        "# define um objeto model que será nosso cliente que fará requisições para o gemini.\n",
        "# no instanciamento é definido por parametro a base de dados que será usada\n",
        "model = gemini.GenerativeModel('gemini-pro')"
      ],
      "metadata": {
        "id": "ZZrBvzsNpxuX"
      },
      "execution_count": null,
      "outputs": []
    },
    {
      "cell_type": "code",
      "source": [
        "# a var response recebe o resultado da consulta do cliente ao gemini\n",
        "response = model.generate_content(\"Qual é o melhor time do Rio Grande do Sul?\")\n",
        "print(response.text)\n"
      ],
      "metadata": {
        "colab": {
          "base_uri": "https://localhost:8080/",
          "height": 34
        },
        "id": "d9uSqt06p-3A",
        "outputId": "6ff7cbdc-db39-4e4f-e802-3effd7ee8700"
      },
      "execution_count": null,
      "outputs": [
        {
          "output_type": "stream",
          "name": "stdout",
          "text": [
            "Internacional\n"
          ]
        }
      ]
    }
  ]
}